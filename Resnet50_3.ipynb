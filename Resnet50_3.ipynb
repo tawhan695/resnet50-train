{
 "nbformat": 4,
 "nbformat_minor": 2,
 "metadata": {
  "language_info": {
   "name": "python",
   "codemirror_mode": {
    "name": "ipython",
    "version": 3
   },
   "version": "3.6.10-final"
  },
  "orig_nbformat": 2,
  "file_extension": ".py",
  "mimetype": "text/x-python",
  "name": "python",
  "npconvert_exporter": "python",
  "pygments_lexer": "ipython3",
  "version": 3,
  "kernelspec": {
   "name": "python361064bitfastaiconda22347a2a37134b828b452e384a09faff",
   "display_name": "Python 3.6.10 64-bit ('fastai': conda)"
  }
 },
 "cells": [
  {
   "cell_type": "code",
   "execution_count": 23,
   "metadata": {},
   "outputs": [],
   "source": [
    "import numpy as np\n",
    "%matplotlib inline\n",
    "import matplotlib.pyplot as plt\n",
    "from PIL import Image"
   ]
  },
  {
   "cell_type": "code",
   "execution_count": 24,
   "metadata": {},
   "outputs": [],
   "source": [
    "import keras\n",
    "from keras.preprocessing.image import ImageDataGenerator\n",
    "from keras.applications import ResNet50\n",
    "from keras.applications.resnet50 import preprocess_input\n",
    "from keras import Model, layers\n",
    "from keras.models import load_model, model_from_json\n",
    "from keras.preprocessing import image #*"
   ]
  },
  {
   "cell_type": "code",
   "execution_count": 25,
   "metadata": {},
   "outputs": [],
   "source": [
    "input_path = \"data/\""
   ]
  },
  {
   "cell_type": "code",
   "execution_count": 26,
   "metadata": {},
   "outputs": [
    {
     "name": "stdout",
     "output_type": "stream",
     "text": "Found 2319 images belonging to 3 classes.\nFound 574 images belonging to 3 classes.\n"
    }
   ],
   "source": [
    "train_datagen = ImageDataGenerator(\n",
    "    shear_range=10,\n",
    "    zoom_range=0.2,\n",
    "    horizontal_flip=True,\n",
    "    preprocessing_function=preprocess_input)\n",
    "\n",
    "train_generator = train_datagen.flow_from_directory(\n",
    "    input_path + 'train',\n",
    "    batch_size=32,\n",
    "    class_mode='binary',\n",
    "    target_size=(224,224))\n",
    "\n",
    "validation_datagen = ImageDataGenerator(\n",
    "    preprocessing_function=preprocess_input)\n",
    "\n",
    "validation_generator = validation_datagen.flow_from_directory(\n",
    "    input_path + 'validation',\n",
    "    shuffle=False,\n",
    "    class_mode='binary',\n",
    "    target_size=(224,224))"
   ]
  },
  {
   "cell_type": "code",
   "execution_count": 27,
   "metadata": {},
   "outputs": [
    {
     "name": "stderr",
     "output_type": "stream",
     "text": "C:\\Users\\tanon\\AppData\\Local\\Continuum\\anaconda3\\envs\\fastai\\lib\\site-packages\\keras_applications\\resnet50.py:265: UserWarning: The output shape of `ResNet50(include_top=False)` has been changed since Keras 2.2.0.\n  warnings.warn('The output shape of `ResNet50(include_top=False)` '\n"
    }
   ],
   "source": [
    "conv_base = ResNet50(\n",
    "    include_top=False,\n",
    "    weights='imagenet')\n",
    "\n",
    "for layer in conv_base.layers:\n",
    "    layer.trainable = False"
   ]
  },
  {
   "cell_type": "code",
   "execution_count": 6,
   "metadata": {},
   "outputs": [],
   "source": [
    "x = conv_base.output\n",
    "x = layers.GlobalAveragePooling2D()(x)\n",
    "x = layers.Dense(128, activation='relu')(x) \n",
    "predictions = layers.Dense(3, activation='softmax')(x)\n",
    "model = Model(conv_base.input, predictions)"
   ]
  },
  {
   "cell_type": "code",
   "execution_count": 7,
   "metadata": {},
   "outputs": [],
   "source": [
    "optimizer = keras.optimizers.Adam()\n",
    "model.compile(loss='sparse_categorical_crossentropy',\n",
    "              optimizer=optimizer,\n",
    "              metrics=['accuracy'])"
   ]
  },
  {
   "cell_type": "code",
   "execution_count": 8,
   "metadata": {},
   "outputs": [],
   "source": [
    "STEP_SIZE_TRAIN=train_generator.n\n",
    "STEP_SIZE_VALID=validation_generator.n"
   ]
  },
  {
   "cell_type": "code",
   "execution_count": 9,
   "metadata": {},
   "outputs": [
    {
     "name": "stdout",
     "output_type": "stream",
     "text": "Epoch 1/100\n2319/2319 [==============================] - 1101s 475ms/step - loss: 0.0686 - accuracy: 0.9751 - val_loss: 0.0017 - val_accuracy: 0.8881\nEpoch 2/100\n2319/2319 [==============================] - 1129s 487ms/step - loss: 0.0159 - accuracy: 0.9947 - val_loss: 0.1685 - val_accuracy: 0.9231\nEpoch 3/100\n2319/2319 [==============================] - 1157s 499ms/step - loss: 0.0118 - accuracy: 0.9961 - val_loss: 0.4898 - val_accuracy: 0.8621\nEpoch 4/100\n2319/2319 [==============================] - 1164s 502ms/step - loss: 0.0095 - accuracy: 0.9965 - val_loss: 1.3197 - val_accuracy: 0.8953\nEpoch 5/100\n2319/2319 [==============================] - 1117s 482ms/step - loss: 0.0055 - accuracy: 0.9976 - val_loss: 2.2830 - val_accuracy: 0.8867\nEpoch 6/100\n2318/2319 [============================>.] - ETA: 0s - loss: 0.0067 - accuracy: 0.9974"
    }
   ],
   "source": [
    "history = model.fit_generator(generator=train_generator,\n",
    "                              steps_per_epoch=2319,  # added in Kaggle\n",
    "                              epochs=100,\n",
    "                              validation_data=validation_generator,\n",
    "                              validation_steps=574\n",
    "                             )"
   ]
  },
  {
   "cell_type": "code",
   "execution_count": 0,
   "metadata": {},
   "outputs": [],
   "source": [
    "!mkdir models\n",
    "!mkdir models/keras"
   ]
  },
  {
   "cell_type": "code",
   "execution_count": 0,
   "metadata": {},
   "outputs": [],
   "source": [
    "# save\n",
    "model.save('models/keras/model.h5')"
   ]
  },
  {
   "cell_type": "code",
   "execution_count": 18,
   "metadata": {},
   "outputs": [],
   "source": [
    "# load\n",
    "model = load_model('models/keras/model.h5')"
   ]
  },
  {
   "cell_type": "code",
   "execution_count": 10,
   "metadata": {},
   "outputs": [],
   "source": [
    "# save\n",
    "model.save_weights('models/keras/weights.h5')\n",
    "with open('models/keras/architecture.json', 'w') as f:\n",
    "        f.write(model.to_json())"
   ]
  },
  {
   "cell_type": "code",
   "execution_count": 19,
   "metadata": {},
   "outputs": [],
   "source": [
    "# # load\n",
    "# with open('models/keras/architecture.json') as f:\n",
    "#     model = model_from_json(f.read())\n",
    "model.load_weights('models/keras/weights.h5')"
   ]
  },
  {
   "cell_type": "code",
   "execution_count": 28,
   "metadata": {},
   "outputs": [
    {
     "data": {
      "text/plain": "{'glass': 0, 'metal': 1, 'plastic': 2}"
     },
     "execution_count": 28,
     "metadata": {},
     "output_type": "execute_result"
    }
   ],
   "source": [
    "validation_generator.class_indices"
   ]
  },
  {
   "cell_type": "code",
   "execution_count": 20,
   "metadata": {},
   "outputs": [],
   "source": [
    "img_path = 'data/validation/glass/glass582.jpg'\n",
    "img = image.load_img(img_path, target_size=(224, 224))\n",
    "x = image.img_to_array(img)\n",
    "x = np.expand_dims(x, axis=0)\n",
    "x = preprocess_input(x)\n",
    "\n",
    "preds = model.predict(x)"
   ]
  },
  {
   "cell_type": "code",
   "execution_count": 21,
   "metadata": {},
   "outputs": [
    {
     "data": {
      "text/plain": "array([[1.0000000e+00, 1.1792413e-30, 1.3864158e-21]], dtype=float32)"
     },
     "execution_count": 21,
     "metadata": {},
     "output_type": "execute_result"
    }
   ],
   "source": [
    "preds"
   ]
  },
  {
   "cell_type": "code",
   "execution_count": 22,
   "metadata": {},
   "outputs": [
    {
     "name": "stdout",
     "output_type": "stream",
     "text": "Package                  Version            \n------------------------ -------------------\nabsl-py                  0.9.0              \nasn1crypto               1.3.0              \nastor                    0.8.1              \nastroid                  2.3.3              \nattrs                    19.3.0             \nbackcall                 0.1.0              \nbeautifulsoup4           4.8.2              \nbleach                   3.1.0              \nblis                     0.2.4              \nBottleneck               1.3.1              \nCacheControl             0.12.6             \ncachetools               4.0.0              \ncertifi                  2019.11.28         \ncffi                     1.13.2             \nchardet                  3.0.4              \ncloudpickle              1.2.2              \ncolorama                 0.4.3              \ncontextlib2              0.6.0.post1        \ncryptography             2.8                \ncycler                   0.10.0             \ncymem                    2.0.2              \nCython                   0.29.14            \ndataclasses              0.6                \ndecorator                4.4.1              \ndefusedxml               0.6.0              \nentrypoints              0.3                \nfastai                   1.0.60             \nfastprogress             0.2.2              \nfirebase-admin           3.2.1              \nfuture                   0.18.2             \nfvcore                   0.1                \ngast                     0.2.2              \ngcloud                   0.17.0             \nglob2                    0.7                \ngoogle-api-core          1.16.0             \ngoogle-api-python-client 1.7.11             \ngoogle-auth              1.10.1             \ngoogle-auth-httplib2     0.0.3              \ngoogle-auth-oauthlib     0.4.1              \ngoogle-cloud-core        1.2.0              \ngoogle-cloud-firestore   1.6.1              \ngoogle-cloud-storage     1.25.0             \ngoogle-pasta             0.1.8              \ngoogle-resumable-media   0.5.0              \ngoogleapis-common-protos 1.51.0             \ngrpcio                   1.26.0             \nh5py                     2.10.0             \nhttplib2                 0.16.0             \nidna                     2.8                \nimportlib-metadata       1.3.0              \nipykernel                5.1.3              \nipython                  7.10.2             \nipython-genutils         0.2.0              \nipywidgets               7.5.1              \nisort                    4.3.21             \njedi                     0.15.1             \nJinja2                   2.10.3             \njoblib                   0.14.1             \njsonschema               3.2.0              \njupyter                  1.0.0              \njupyter-client           5.3.4              \njupyter-console          6.0.0              \njupyter-core             4.6.1              \njws                      0.1.3              \nKeras                    2.3.1              \nKeras-Applications       1.0.8              \nKeras-Preprocessing      1.1.0              \nkiwisolver               1.1.0              \nlazy-object-proxy        1.4.3              \nlxml                     4.4.2              \nMarkdown                 3.2                \nMarkupSafe               1.1.1              \nmatplotlib               3.1.2              \nmccabe                   0.6.1              \nmistune                  0.8.4              \nmkl-fft                  1.0.15             \nmkl-random               1.1.0              \nmkl-service              2.3.0              \nmore-itertools           8.0.2              \nmsgpack                  0.6.2              \nmurmurhash               1.0.2              \nnb-conda                 2.2.1              \nnb-conda-kernels         2.2.2              \nnbconvert                5.6.1              \nnbformat                 4.4.0              \nnotebook                 6.0.2              \nnumexpr                  2.7.0              \nnumpy                    1.17.4             \noauth2client             3.0.0              \noauthlib                 3.1.0              \nolefile                  0.46               \nopencv-python            4.1.2.30           \nopt-einsum               3.1.0              \npackaging                20.0               \npandas                   0.25.3             \npandocfilters            1.4.2              \nparso                    0.5.2              \npickleshare              0.7.5              \nPillow                   6.2.1              \npip                      19.3.1             \nplac                     0.9.6              \nportalocker              1.5.2              \npreshed                  2.0.1              \nprometheus-client        0.7.1              \nprompt-toolkit           2.0.10             \nprotobuf                 3.11.2             \npyasn1                   0.4.8              \npyasn1-modules           0.2.8              \npycparser                2.19               \npycryptodome             3.4.3              \npydot                    1.4.1              \nPygments                 2.5.2              \npylint                   2.4.4              \npyOpenSSL                19.1.0             \npyparsing                2.4.5              \nPyrebase                 3.0.27             \npyrsistent               0.15.6             \nPySocks                  1.7.1              \npython-dateutil          2.8.1              \npython-jwt               2.0.1              \npytz                     2019.3             \npywin32                  227                \npywinpty                 0.5.7              \nPyYAML                   5.2                \npyzmq                    18.1.1             \nqtconsole                4.6.0              \nrequests                 2.22.0             \nrequests-oauthlib        1.3.0              \nrequests-toolbelt        0.7.0              \nrsa                      4.0                \nscikit-learn             0.22.1             \nscipy                    1.4.1              \nseaborn                  0.9.0              \nSend2Trash               1.5.0              \nsetuptools               44.0.0.post20200106\nsix                      1.13.0             \nsklearn                  0.0                \nsoupsieve                1.9.5              \nspacy                    2.1.8              \nsrsly                    0.1.0              \ntabulate                 0.8.6              \ntensorboard              2.1.0              \ntensorflow               2.1.0              \ntensorflow-estimator     2.1.0              \ntermcolor                1.1.0              \nterminado                0.8.3              \ntestpath                 0.4.4              \nthinc                    7.0.8              \ntorch                    1.3.1              \ntorchvision              0.5.0              \ntornado                  6.0.3              \ntqdm                     4.41.1             \ntraitlets                4.3.3              \ntyped-ast                1.4.0              \nuritemplate              3.0.1              \nurllib3                  1.25.7             \nwasabi                   0.2.2              \nwcwidth                  0.1.7              \nwebencodings             0.5.1              \nWerkzeug                 1.0.0              \nwheel                    0.33.6             \nwidgetsnbextension       3.5.1              \nwin-inet-pton            1.1.0              \nwincertstore             0.2                \nwrapt                    1.11.2             \nyacs                     0.1.6              \nzipp                     0.6.0              \nNote: you may need to restart the kernel to use updated packages.\n"
    }
   ],
   "source": [
    "pip list\n"
   ]
  },
  {
   "cell_type": "code",
   "execution_count": null,
   "metadata": {},
   "outputs": [],
   "source": []
  }
 ]
}